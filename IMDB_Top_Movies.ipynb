{
  "nbformat": 4,
  "nbformat_minor": 0,
  "metadata": {
    "colab": {
      "provenance": [],
      "toc_visible": true,
      "authorship_tag": "ABX9TyOO7hAJERGcIY5++r3WJAbb",
      "include_colab_link": true
    },
    "kernelspec": {
      "name": "python3",
      "display_name": "Python 3"
    },
    "language_info": {
      "name": "python"
    }
  },
  "cells": [
    {
      "cell_type": "markdown",
      "metadata": {
        "id": "view-in-github",
        "colab_type": "text"
      },
      "source": [
        "<a href=\"https://colab.research.google.com/github/chandrikakhanal07/IMDB-scrapping/blob/main/IMDB_Top_Movies.ipynb\" target=\"_parent\"><img src=\"https://colab.research.google.com/assets/colab-badge.svg\" alt=\"Open In Colab\"/></a>"
      ]
    },
    {
      "cell_type": "markdown",
      "source": [],
      "metadata": {
        "id": "9AXdCdJiSi6K"
      }
    },
    {
      "cell_type": "markdown",
      "source": [
        "Web Scrapping"
      ],
      "metadata": {
        "id": "hsjd2bFYSlMv"
      }
    },
    {
      "cell_type": "code",
      "source": [
        "from bs4 import BeautifulSoup\n",
        "import requests\n"
      ],
      "metadata": {
        "id": "SrHpYjg6S4l5"
      },
      "execution_count": null,
      "outputs": []
    },
    {
      "cell_type": "code",
      "source": [
        "pagescrap= requests.get(\"https://www.imdb.com/chart/top/?ref_=nv_mv_250\")"
      ],
      "metadata": {
        "id": "Y5feEDITTCu2"
      },
      "execution_count": null,
      "outputs": []
    },
    {
      "cell_type": "code",
      "source": [
        "soup= BeautifulSoup(pagescrap.text, \"html.parser\")"
      ],
      "metadata": {
        "id": "ssTx0JFzTScj"
      },
      "execution_count": null,
      "outputs": []
    },
    {
      "cell_type": "code",
      "source": [
        "topmovies= soup.find(\"tbody\", class_= \"lister-list\").find_all('tr')\n",
        "print(len(topmovies))"
      ],
      "metadata": {
        "colab": {
          "base_uri": "https://localhost:8080/"
        },
        "id": "R5uSmL15hn48",
        "outputId": "8a57978c-71fe-44f9-d846-49183f94a065"
      },
      "execution_count": null,
      "outputs": [
        {
          "output_type": "stream",
          "name": "stdout",
          "text": [
            "250\n"
          ]
        }
      ]
    },
    {
      "cell_type": "code",
      "source": [
        "for movie in topmovies:\n",
        " name= movie.find(\"td\", class_=\"titleColumn\").a.text\n",
        " rank= movie.find(\"td\", class_=\"titleColumn\").get_text(strip= True).split('.')\n",
        " year =movie.find(\"td\", class_=\"titleColumn\").span.text.strip(\"()\")\n",
        " rating= movie.find(\"td\", class_=\"ratingColumn imdbRating\").strong.text\n",
        "\n",
        " print(rank, name, year, rating)\n",
        " sheet.append([rank, name, year, rating])\n",
        "\n",
        " excel.save('IMDB MOVIES.xlsx')"
      ],
      "metadata": {
        "id": "MSYhPVGGa8JB"
      },
      "execution_count": null,
      "outputs": []
    },
    {
      "cell_type": "code",
      "source": [
        "import openpyxl"
      ],
      "metadata": {
        "id": "5xOmA3hQ4En7"
      },
      "execution_count": null,
      "outputs": []
    },
    {
      "cell_type": "code",
      "source": [
        "movies= openpyxl.Workbook()\n",
        "\n",
        "sheet = movies.active\n",
        "sheet.title = \" Top Rated Movies\"\n",
        "print(movies.sheetnames)\n",
        "sheet.append(['movie Rank', \" movie name\", \" Year of Release\", \"IMDBrating\"])\n",
        "\n",
        "\n",
        "\n",
        "\n"
      ],
      "metadata": {
        "colab": {
          "base_uri": "https://localhost:8080/"
        },
        "id": "j_wAlTZy4aTs",
        "outputId": "90352345-822b-4472-9f3f-f8da76024d97"
      },
      "execution_count": null,
      "outputs": [
        {
          "output_type": "stream",
          "name": "stdout",
          "text": [
            "[' Top Rated Movies']\n"
          ]
        }
      ]
    }
  ]
}